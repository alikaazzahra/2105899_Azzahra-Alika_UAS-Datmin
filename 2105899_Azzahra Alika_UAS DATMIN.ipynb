{
 "cells": [
  {
   "cell_type": "markdown",
   "id": "639324cc",
   "metadata": {},
   "source": [
    "# Azzahra Alika_2105899"
   ]
  },
  {
   "cell_type": "code",
   "execution_count": 38,
   "id": "fcd9d224",
   "metadata": {},
   "outputs": [],
   "source": [
    "%matplotlib inline\n",
    "import numpy as np\n",
    "import pandas as pd\n",
    "import matplotlib.pyplot as plt\n",
    "import seaborn as sns"
   ]
  },
  {
   "cell_type": "code",
   "execution_count": 39,
   "id": "d554aaaf",
   "metadata": {},
   "outputs": [
    {
     "data": {
      "text/html": [
       "<div>\n",
       "<style scoped>\n",
       "    .dataframe tbody tr th:only-of-type {\n",
       "        vertical-align: middle;\n",
       "    }\n",
       "\n",
       "    .dataframe tbody tr th {\n",
       "        vertical-align: top;\n",
       "    }\n",
       "\n",
       "    .dataframe thead th {\n",
       "        text-align: right;\n",
       "    }\n",
       "</style>\n",
       "<table border=\"1\" class=\"dataframe\">\n",
       "  <thead>\n",
       "    <tr style=\"text-align: right;\">\n",
       "      <th></th>\n",
       "      <th>prov</th>\n",
       "      <th>tahun</th>\n",
       "      <th>jumlah_naik_haji</th>\n",
       "    </tr>\n",
       "  </thead>\n",
       "  <tbody>\n",
       "    <tr>\n",
       "      <th>0</th>\n",
       "      <td>ACEH</td>\n",
       "      <td>2016</td>\n",
       "      <td>3135.0</td>\n",
       "    </tr>\n",
       "    <tr>\n",
       "      <th>1</th>\n",
       "      <td>SUMATERA UTARA</td>\n",
       "      <td>2016</td>\n",
       "      <td>6529.0</td>\n",
       "    </tr>\n",
       "    <tr>\n",
       "      <th>2</th>\n",
       "      <td>SUMATERA BARAT</td>\n",
       "      <td>2016</td>\n",
       "      <td>3576.0</td>\n",
       "    </tr>\n",
       "    <tr>\n",
       "      <th>3</th>\n",
       "      <td>RIAU</td>\n",
       "      <td>2016</td>\n",
       "      <td>4032.0</td>\n",
       "    </tr>\n",
       "    <tr>\n",
       "      <th>4</th>\n",
       "      <td>JAMBI</td>\n",
       "      <td>2016</td>\n",
       "      <td>2100.0</td>\n",
       "    </tr>\n",
       "  </tbody>\n",
       "</table>\n",
       "</div>"
      ],
      "text/plain": [
       "             prov  tahun  jumlah_naik_haji\n",
       "0            ACEH   2016            3135.0\n",
       "1  SUMATERA UTARA   2016            6529.0\n",
       "2  SUMATERA BARAT   2016            3576.0\n",
       "3            RIAU   2016            4032.0\n",
       "4           JAMBI   2016            2100.0"
      ]
     },
     "execution_count": 39,
     "metadata": {},
     "output_type": "execute_result"
    }
   ],
   "source": [
    "#memanggil dataset yang ada di folder dan menampilkan 5 yang ada di dataset\n",
    "df = pd.read_csv(\"D:\\\\SEMESTER3\\\\data mining\\\\jumlah_naik_haji.csv\") #sesuaikan path\n",
    "df.head(5)"
   ]
  },
  {
   "cell_type": "code",
   "execution_count": 40,
   "id": "f6348c10",
   "metadata": {},
   "outputs": [
    {
     "name": "stdout",
     "output_type": "stream",
     "text": [
      "<class 'pandas.core.frame.DataFrame'>\n",
      "RangeIndex: 245 entries, 0 to 244\n",
      "Data columns (total 3 columns):\n",
      " #   Column            Non-Null Count  Dtype  \n",
      "---  ------            --------------  -----  \n",
      " 0   prov              245 non-null    object \n",
      " 1   tahun             245 non-null    int64  \n",
      " 2   jumlah_naik_haji  238 non-null    float64\n",
      "dtypes: float64(1), int64(1), object(1)\n",
      "memory usage: 5.9+ KB\n"
     ]
    }
   ],
   "source": [
    "#mengecek ada atribut apa saja yang ada pada dataset\n",
    "df.info()"
   ]
  },
  {
   "cell_type": "code",
   "execution_count": 41,
   "id": "da28d7b3",
   "metadata": {},
   "outputs": [
    {
     "data": {
      "text/plain": [
       "ACEH                    7\n",
       "SULAWESI SELATAN        7\n",
       "KALIMANTAN TENGAH       7\n",
       "KALIMANTAN SELATAN      7\n",
       "KALIMANTAN TIMUR        7\n",
       "KALIMANTAN UTARA        7\n",
       "SULAWESI UTARA          7\n",
       "SULAWESI TENGAH         7\n",
       "SULAWESI TENGGARA       7\n",
       "NUSA TENGGARA TIMUR     7\n",
       "GORONTALO               7\n",
       "SULAWESI BARAT          7\n",
       "MALUKU                  7\n",
       "MALUKU UTARA            7\n",
       "PAPUA BARAT             7\n",
       "PAPUA                   7\n",
       "KALIMANTAN BARAT        7\n",
       "NUSA TENGGARA BARAT     7\n",
       "SUMATERA UTARA          7\n",
       "KEP. BANGKA BELITUNG    7\n",
       "SUMATERA BARAT          7\n",
       "RIAU                    7\n",
       "JAMBI                   7\n",
       "SUMATERA SELATAN        7\n",
       "BENGKULU                7\n",
       "LAMPUNG                 7\n",
       "KEP. RIAU               7\n",
       "BALI                    7\n",
       "DKI JAKARTA             7\n",
       "JAWA BARAT              7\n",
       "JAWA TENGAH             7\n",
       "DI YOGYAKARTA           7\n",
       "JAWA TIMUR              7\n",
       "BANTEN                  7\n",
       "INDONESIA               7\n",
       "Name: prov, dtype: int64"
      ]
     },
     "execution_count": 41,
     "metadata": {},
     "output_type": "execute_result"
    }
   ],
   "source": [
    "#melihat ada apa saja didalam atribut provinsi\n",
    "df.prov.value_counts()"
   ]
  },
  {
   "cell_type": "code",
   "execution_count": 42,
   "id": "7fc76195",
   "metadata": {},
   "outputs": [
    {
     "data": {
      "text/plain": [
       "DKI JAKARTA             14\n",
       "ACEH                     7\n",
       "SULAWESI TENGAH          7\n",
       "KALIMANTAN TENGAH        7\n",
       "KALIMANTAN SELATAN       7\n",
       "KALIMANTAN TIMUR         7\n",
       "KALIMANTAN UTARA         7\n",
       "SULAWESI UTARA           7\n",
       "SULAWESI SELATAN         7\n",
       "NUSA TENGGARA TIMUR      7\n",
       "SULAWESI TENGGARA        7\n",
       "GORONTALO                7\n",
       "SULAWESI BARAT           7\n",
       "MALUKU                   7\n",
       "MALUKU UTARA             7\n",
       "PAPUA BARAT              7\n",
       "KALIMANTAN BARAT         7\n",
       "NUSA TENGGARA BARAT      7\n",
       "SUMATERA UTARA           7\n",
       "BALI                     7\n",
       "BANTEN                   7\n",
       "JAWA TIMUR               7\n",
       "DI YOGYAKARTA            7\n",
       "JAWA TENGAH              7\n",
       "JAWA BARAT               7\n",
       "KEP. RIAU                7\n",
       "KEP. BANGKA BELITUNG     7\n",
       "LAMPUNG                  7\n",
       "BENGKULU                 7\n",
       "SUMATERA SELATAN         7\n",
       "JAMBI                    7\n",
       "RIAU                     7\n",
       "SUMATERA BARAT           7\n",
       "PAPUA                    7\n",
       "Name: prov, dtype: int64"
      ]
     },
     "execution_count": 42,
     "metadata": {},
     "output_type": "execute_result"
    }
   ],
   "source": [
    "#mengganti INDONESIA menjadi DKI JAKARTA karena INDONESIA bukan sebuah provinsi\n",
    "df['prov'] = df['prov'].replace(['INDONESIA'],'DKI JAKARTA')\n",
    "df.prov.value_counts()"
   ]
  },
  {
   "cell_type": "code",
   "execution_count": null,
   "id": "d50e52a2",
   "metadata": {},
   "outputs": [],
   "source": []
  },
  {
   "cell_type": "code",
   "execution_count": 43,
   "id": "3881a02b",
   "metadata": {},
   "outputs": [
    {
     "data": {
      "text/plain": [
       "prov                0\n",
       "tahun               0\n",
       "jumlah_naik_haji    7\n",
       "dtype: int64"
      ]
     },
     "execution_count": 43,
     "metadata": {},
     "output_type": "execute_result"
    }
   ],
   "source": [
    "#melihat apakah ada atribut yang isinya null\n",
    "df.isnull().sum()"
   ]
  },
  {
   "cell_type": "code",
   "execution_count": 44,
   "id": "25898ad4",
   "metadata": {},
   "outputs": [
    {
     "data": {
      "text/html": [
       "<div>\n",
       "<style scoped>\n",
       "    .dataframe tbody tr th:only-of-type {\n",
       "        vertical-align: middle;\n",
       "    }\n",
       "\n",
       "    .dataframe tbody tr th {\n",
       "        vertical-align: top;\n",
       "    }\n",
       "\n",
       "    .dataframe thead th {\n",
       "        text-align: right;\n",
       "    }\n",
       "</style>\n",
       "<table border=\"1\" class=\"dataframe\">\n",
       "  <thead>\n",
       "    <tr style=\"text-align: right;\">\n",
       "      <th></th>\n",
       "      <th>prov</th>\n",
       "      <th>tahun</th>\n",
       "      <th>jumlah_naik_haji</th>\n",
       "    </tr>\n",
       "  </thead>\n",
       "  <tbody>\n",
       "    <tr>\n",
       "      <th>0</th>\n",
       "      <td>ACEH</td>\n",
       "      <td>2016</td>\n",
       "      <td>3135.0</td>\n",
       "    </tr>\n",
       "    <tr>\n",
       "      <th>1</th>\n",
       "      <td>SUMATERA UTARA</td>\n",
       "      <td>2016</td>\n",
       "      <td>6529.0</td>\n",
       "    </tr>\n",
       "    <tr>\n",
       "      <th>2</th>\n",
       "      <td>SUMATERA BARAT</td>\n",
       "      <td>2016</td>\n",
       "      <td>3576.0</td>\n",
       "    </tr>\n",
       "    <tr>\n",
       "      <th>3</th>\n",
       "      <td>RIAU</td>\n",
       "      <td>2016</td>\n",
       "      <td>4032.0</td>\n",
       "    </tr>\n",
       "    <tr>\n",
       "      <th>4</th>\n",
       "      <td>JAMBI</td>\n",
       "      <td>2016</td>\n",
       "      <td>2100.0</td>\n",
       "    </tr>\n",
       "    <tr>\n",
       "      <th>...</th>\n",
       "      <td>...</td>\n",
       "      <td>...</td>\n",
       "      <td>...</td>\n",
       "    </tr>\n",
       "    <tr>\n",
       "      <th>240</th>\n",
       "      <td>MALUKU</td>\n",
       "      <td>2010</td>\n",
       "      <td>739.0</td>\n",
       "    </tr>\n",
       "    <tr>\n",
       "      <th>241</th>\n",
       "      <td>MALUKU UTARA</td>\n",
       "      <td>2010</td>\n",
       "      <td>1062.0</td>\n",
       "    </tr>\n",
       "    <tr>\n",
       "      <th>242</th>\n",
       "      <td>PAPUA BARAT</td>\n",
       "      <td>2010</td>\n",
       "      <td>741.0</td>\n",
       "    </tr>\n",
       "    <tr>\n",
       "      <th>243</th>\n",
       "      <td>PAPUA</td>\n",
       "      <td>2010</td>\n",
       "      <td>1122.0</td>\n",
       "    </tr>\n",
       "    <tr>\n",
       "      <th>244</th>\n",
       "      <td>DKI JAKARTA</td>\n",
       "      <td>2010</td>\n",
       "      <td>196206.0</td>\n",
       "    </tr>\n",
       "  </tbody>\n",
       "</table>\n",
       "<p>245 rows × 3 columns</p>\n",
       "</div>"
      ],
      "text/plain": [
       "               prov  tahun  jumlah_naik_haji\n",
       "0              ACEH   2016            3135.0\n",
       "1    SUMATERA UTARA   2016            6529.0\n",
       "2    SUMATERA BARAT   2016            3576.0\n",
       "3              RIAU   2016            4032.0\n",
       "4             JAMBI   2016            2100.0\n",
       "..              ...    ...               ...\n",
       "240          MALUKU   2010             739.0\n",
       "241    MALUKU UTARA   2010            1062.0\n",
       "242     PAPUA BARAT   2010             741.0\n",
       "243           PAPUA   2010            1122.0\n",
       "244     DKI JAKARTA   2010          196206.0\n",
       "\n",
       "[245 rows x 3 columns]"
      ]
     },
     "execution_count": 44,
     "metadata": {},
     "output_type": "execute_result"
    }
   ],
   "source": [
    "#karena atribut jumlah naik haji ada yang null maka diisi dengan rata-rata jumlah naik haji tiap daerah \n",
    "mean = df[\"jumlah_naik_haji\"].mean()\n",
    "df[\"jumlah_naik_haji\"] = df[\"jumlah_naik_haji\"].replace(np.nan, mean)\n",
    "df"
   ]
  },
  {
   "cell_type": "code",
   "execution_count": 45,
   "id": "2fe2371b",
   "metadata": {},
   "outputs": [
    {
     "data": {
      "text/plain": [
       "prov                0\n",
       "tahun               0\n",
       "jumlah_naik_haji    0\n",
       "dtype: int64"
      ]
     },
     "execution_count": 45,
     "metadata": {},
     "output_type": "execute_result"
    }
   ],
   "source": [
    "#di cek lagi apakah ada yg null setelah diisi dengan rata-rata\n",
    "df.isnull().sum()"
   ]
  },
  {
   "cell_type": "code",
   "execution_count": 46,
   "id": "423ec9f3",
   "metadata": {},
   "outputs": [
    {
     "data": {
      "text/html": [
       "<div>\n",
       "<style scoped>\n",
       "    .dataframe tbody tr th:only-of-type {\n",
       "        vertical-align: middle;\n",
       "    }\n",
       "\n",
       "    .dataframe tbody tr th {\n",
       "        vertical-align: top;\n",
       "    }\n",
       "\n",
       "    .dataframe thead th {\n",
       "        text-align: right;\n",
       "    }\n",
       "</style>\n",
       "<table border=\"1\" class=\"dataframe\">\n",
       "  <thead>\n",
       "    <tr style=\"text-align: right;\">\n",
       "      <th></th>\n",
       "      <th>prov</th>\n",
       "      <th>tahun</th>\n",
       "      <th>kepadatan_penduduk</th>\n",
       "    </tr>\n",
       "  </thead>\n",
       "  <tbody>\n",
       "    <tr>\n",
       "      <th>0</th>\n",
       "      <td>ACEH</td>\n",
       "      <td>2021</td>\n",
       "      <td>92</td>\n",
       "    </tr>\n",
       "    <tr>\n",
       "      <th>1</th>\n",
       "      <td>SUMATERA UTARA</td>\n",
       "      <td>2021</td>\n",
       "      <td>205</td>\n",
       "    </tr>\n",
       "    <tr>\n",
       "      <th>2</th>\n",
       "      <td>SUMATERA BARAT</td>\n",
       "      <td>2021</td>\n",
       "      <td>133</td>\n",
       "    </tr>\n",
       "    <tr>\n",
       "      <th>3</th>\n",
       "      <td>RIAU</td>\n",
       "      <td>2021</td>\n",
       "      <td>75</td>\n",
       "    </tr>\n",
       "    <tr>\n",
       "      <th>4</th>\n",
       "      <td>JAMBI</td>\n",
       "      <td>2021</td>\n",
       "      <td>72</td>\n",
       "    </tr>\n",
       "  </tbody>\n",
       "</table>\n",
       "</div>"
      ],
      "text/plain": [
       "             prov  tahun kepadatan_penduduk\n",
       "0            ACEH   2021                 92\n",
       "1  SUMATERA UTARA   2021                205\n",
       "2  SUMATERA BARAT   2021                133\n",
       "3            RIAU   2021                 75\n",
       "4           JAMBI   2021                 72"
      ]
     },
     "execution_count": 46,
     "metadata": {},
     "output_type": "execute_result"
    }
   ],
   "source": [
    "#memanggil dataset kedua \n",
    "df2 = pd.read_csv(\"D:\\\\SEMESTER3\\\\data mining\\\\kepadatan_penduduk.csv\") #sesuaikan path\n",
    "df2.head(5)"
   ]
  },
  {
   "cell_type": "code",
   "execution_count": 47,
   "id": "96ec5ca4",
   "metadata": {},
   "outputs": [
    {
     "name": "stdout",
     "output_type": "stream",
     "text": [
      "<class 'pandas.core.frame.DataFrame'>\n",
      "RangeIndex: 280 entries, 0 to 279\n",
      "Data columns (total 3 columns):\n",
      " #   Column              Non-Null Count  Dtype \n",
      "---  ------              --------------  ----- \n",
      " 0   prov                280 non-null    object\n",
      " 1   tahun               280 non-null    int64 \n",
      " 2   kepadatan_penduduk  280 non-null    object\n",
      "dtypes: int64(1), object(2)\n",
      "memory usage: 6.7+ KB\n"
     ]
    }
   ],
   "source": [
    "#mengecek ada atribut apa saja pada dataset\n",
    "df2.info()"
   ]
  },
  {
   "cell_type": "code",
   "execution_count": 48,
   "id": "b26fafc3",
   "metadata": {},
   "outputs": [
    {
     "data": {
      "text/plain": [
       "prov                  0\n",
       "tahun                 0\n",
       "kepadatan_penduduk    0\n",
       "dtype: int64"
      ]
     },
     "execution_count": 48,
     "metadata": {},
     "output_type": "execute_result"
    }
   ],
   "source": [
    "#cek apakah ada yang null \n",
    "df2.isnull().sum()"
   ]
  },
  {
   "cell_type": "code",
   "execution_count": 49,
   "id": "d4d7cf04",
   "metadata": {},
   "outputs": [
    {
     "data": {
      "text/plain": [
       "ACEH                    8\n",
       "SULAWESI SELATAN        8\n",
       "KALIMANTAN TENGAH       8\n",
       "KALIMANTAN SELATAN      8\n",
       "KALIMANTAN TIMUR        8\n",
       "KALIMANTAN UTARA        8\n",
       "SULAWESI UTARA          8\n",
       "SULAWESI TENGAH         8\n",
       "SULAWESI TENGGARA       8\n",
       "NUSA TENGGARA TIMUR     8\n",
       "GORONTALO               8\n",
       "SULAWESI BARAT          8\n",
       "MALUKU                  8\n",
       "MALUKU UTARA            8\n",
       "PAPUA BARAT             8\n",
       "PAPUA                   8\n",
       "KALIMANTAN BARAT        8\n",
       "NUSA TENGGARA BARAT     8\n",
       "SUMATERA UTARA          8\n",
       "KEP. BANGKA BELITUNG    8\n",
       "SUMATERA BARAT          8\n",
       "RIAU                    8\n",
       "JAMBI                   8\n",
       "SUMATERA SELATAN        8\n",
       "BENGKULU                8\n",
       "LAMPUNG                 8\n",
       "KEP. RIAU               8\n",
       "BALI                    8\n",
       "DKI JAKARTA             8\n",
       "JAWA BARAT              8\n",
       "JAWA TENGAH             8\n",
       "DI YOGYAKARTA           8\n",
       "JAWA TIMUR              8\n",
       "BANTEN                  8\n",
       "INDONESIA               8\n",
       "Name: prov, dtype: int64"
      ]
     },
     "execution_count": 49,
     "metadata": {},
     "output_type": "execute_result"
    }
   ],
   "source": [
    "#melihat ada apa saja didalam atribut provinsi\n",
    "df2.prov.value_counts()"
   ]
  },
  {
   "cell_type": "code",
   "execution_count": 50,
   "id": "5ff6974c",
   "metadata": {},
   "outputs": [
    {
     "data": {
      "text/plain": [
       "DKI JAKARTA             16\n",
       "ACEH                     8\n",
       "SULAWESI TENGAH          8\n",
       "KALIMANTAN TENGAH        8\n",
       "KALIMANTAN SELATAN       8\n",
       "KALIMANTAN TIMUR         8\n",
       "KALIMANTAN UTARA         8\n",
       "SULAWESI UTARA           8\n",
       "SULAWESI SELATAN         8\n",
       "NUSA TENGGARA TIMUR      8\n",
       "SULAWESI TENGGARA        8\n",
       "GORONTALO                8\n",
       "SULAWESI BARAT           8\n",
       "MALUKU                   8\n",
       "MALUKU UTARA             8\n",
       "PAPUA BARAT              8\n",
       "KALIMANTAN BARAT         8\n",
       "NUSA TENGGARA BARAT      8\n",
       "SUMATERA UTARA           8\n",
       "BALI                     8\n",
       "BANTEN                   8\n",
       "JAWA TIMUR               8\n",
       "DI YOGYAKARTA            8\n",
       "JAWA TENGAH              8\n",
       "JAWA BARAT               8\n",
       "KEP. RIAU                8\n",
       "KEP. BANGKA BELITUNG     8\n",
       "LAMPUNG                  8\n",
       "BENGKULU                 8\n",
       "SUMATERA SELATAN         8\n",
       "JAMBI                    8\n",
       "RIAU                     8\n",
       "SUMATERA BARAT           8\n",
       "PAPUA                    8\n",
       "Name: prov, dtype: int64"
      ]
     },
     "execution_count": 50,
     "metadata": {},
     "output_type": "execute_result"
    }
   ],
   "source": [
    "#mengubah INDONESIA menjadi DKI JAKARTA karena INDONESIA bukan provinsi\n",
    "df2['prov'] = df2['prov'].replace(['INDONESIA'],'DKI JAKARTA')\n",
    "df2.prov.value_counts()"
   ]
  },
  {
   "cell_type": "code",
   "execution_count": 51,
   "id": "47982e94",
   "metadata": {},
   "outputs": [
    {
     "data": {
      "text/html": [
       "<div>\n",
       "<style scoped>\n",
       "    .dataframe tbody tr th:only-of-type {\n",
       "        vertical-align: middle;\n",
       "    }\n",
       "\n",
       "    .dataframe tbody tr th {\n",
       "        vertical-align: top;\n",
       "    }\n",
       "\n",
       "    .dataframe thead th {\n",
       "        text-align: right;\n",
       "    }\n",
       "</style>\n",
       "<table border=\"1\" class=\"dataframe\">\n",
       "  <thead>\n",
       "    <tr style=\"text-align: right;\">\n",
       "      <th></th>\n",
       "      <th>prov</th>\n",
       "      <th>tahun_naik_haji</th>\n",
       "      <th>jumlah_naik_haji</th>\n",
       "      <th>tahun</th>\n",
       "      <th>kepadatan_penduduk</th>\n",
       "    </tr>\n",
       "  </thead>\n",
       "  <tbody>\n",
       "    <tr>\n",
       "      <th>0</th>\n",
       "      <td>ACEH</td>\n",
       "      <td>2016</td>\n",
       "      <td>3135.0</td>\n",
       "      <td>2021</td>\n",
       "      <td>92</td>\n",
       "    </tr>\n",
       "    <tr>\n",
       "      <th>1</th>\n",
       "      <td>ACEH</td>\n",
       "      <td>2016</td>\n",
       "      <td>3135.0</td>\n",
       "      <td>2020</td>\n",
       "      <td>91</td>\n",
       "    </tr>\n",
       "    <tr>\n",
       "      <th>2</th>\n",
       "      <td>ACEH</td>\n",
       "      <td>2016</td>\n",
       "      <td>3135.0</td>\n",
       "      <td>2019</td>\n",
       "      <td>93</td>\n",
       "    </tr>\n",
       "    <tr>\n",
       "      <th>3</th>\n",
       "      <td>ACEH</td>\n",
       "      <td>2016</td>\n",
       "      <td>3135.0</td>\n",
       "      <td>2016</td>\n",
       "      <td>88</td>\n",
       "    </tr>\n",
       "    <tr>\n",
       "      <th>4</th>\n",
       "      <td>ACEH</td>\n",
       "      <td>2016</td>\n",
       "      <td>3135.0</td>\n",
       "      <td>2015</td>\n",
       "      <td>86</td>\n",
       "    </tr>\n",
       "    <tr>\n",
       "      <th>...</th>\n",
       "      <td>...</td>\n",
       "      <td>...</td>\n",
       "      <td>...</td>\n",
       "      <td>...</td>\n",
       "      <td>...</td>\n",
       "    </tr>\n",
       "    <tr>\n",
       "      <th>2067</th>\n",
       "      <td>DKI JAKARTA</td>\n",
       "      <td>2010</td>\n",
       "      <td>196206.0</td>\n",
       "      <td>2014</td>\n",
       "      <td>132</td>\n",
       "    </tr>\n",
       "    <tr>\n",
       "      <th>2068</th>\n",
       "      <td>DKI JAKARTA</td>\n",
       "      <td>2010</td>\n",
       "      <td>196206.0</td>\n",
       "      <td>2013</td>\n",
       "      <td>15015</td>\n",
       "    </tr>\n",
       "    <tr>\n",
       "      <th>2069</th>\n",
       "      <td>DKI JAKARTA</td>\n",
       "      <td>2010</td>\n",
       "      <td>196206.0</td>\n",
       "      <td>2013</td>\n",
       "      <td>130</td>\n",
       "    </tr>\n",
       "    <tr>\n",
       "      <th>2070</th>\n",
       "      <td>DKI JAKARTA</td>\n",
       "      <td>2010</td>\n",
       "      <td>196206.0</td>\n",
       "      <td>2010</td>\n",
       "      <td>14518</td>\n",
       "    </tr>\n",
       "    <tr>\n",
       "      <th>2071</th>\n",
       "      <td>DKI JAKARTA</td>\n",
       "      <td>2010</td>\n",
       "      <td>196206.0</td>\n",
       "      <td>2010</td>\n",
       "      <td>124</td>\n",
       "    </tr>\n",
       "  </tbody>\n",
       "</table>\n",
       "<p>2072 rows × 5 columns</p>\n",
       "</div>"
      ],
      "text/plain": [
       "             prov  tahun_naik_haji  jumlah_naik_haji  tahun kepadatan_penduduk\n",
       "0            ACEH             2016            3135.0   2021                 92\n",
       "1            ACEH             2016            3135.0   2020                 91\n",
       "2            ACEH             2016            3135.0   2019                 93\n",
       "3            ACEH             2016            3135.0   2016                 88\n",
       "4            ACEH             2016            3135.0   2015                 86\n",
       "...           ...              ...               ...    ...                ...\n",
       "2067  DKI JAKARTA             2010          196206.0   2014                132\n",
       "2068  DKI JAKARTA             2010          196206.0   2013              15015\n",
       "2069  DKI JAKARTA             2010          196206.0   2013                130\n",
       "2070  DKI JAKARTA             2010          196206.0   2010              14518\n",
       "2071  DKI JAKARTA             2010          196206.0   2010                124\n",
       "\n",
       "[2072 rows x 5 columns]"
      ]
     },
     "execution_count": 51,
     "metadata": {},
     "output_type": "execute_result"
    }
   ],
   "source": [
    "#setelah dataset dibersihkan dan tidak ada yang null lagi maka kedua dataset di merge \n",
    "#untuk atribut dengan tahun_x diganti dengan tahun_naik_haji dan tahun_y diganti dengan tahun \n",
    "df_merge = pd.merge(df, df2, how=\"left\", on=\"prov\")\n",
    "df_merge.rename(columns={'tahun_y':'tahun'},inplace=True)\n",
    "df_merge.rename(columns={'tahun_x':'tahun_naik_haji'},inplace=True)\n",
    "df_merge[:]\n"
   ]
  },
  {
   "cell_type": "code",
   "execution_count": 52,
   "id": "88d6c348",
   "metadata": {},
   "outputs": [
    {
     "data": {
      "text/plain": [
       "<seaborn.axisgrid.FacetGrid at 0x24a134a6c10>"
      ]
     },
     "execution_count": 52,
     "metadata": {},
     "output_type": "execute_result"
    },
    {
     "data": {
      "image/png": "[encoded data removed]",
      "text/plain": [
       "<Figure size 518.25x360 with 1 Axes>"
      ]
     },
     "metadata": {
      "needs_background": "light"
     },
     "output_type": "display_data"
    }
   ],
   "source": [
    "#bisa diartikan kalau yang paling banyak naik haji pertahunnya ada pada provinsi DKI JAKARTA\n",
    "sns.catplot(x=\"tahun_naik_haji\", y=\"jumlah_naik_haji\", hue=\"prov\", data=df_merge)"
   ]
  },
  {
   "cell_type": "code",
   "execution_count": null,
   "id": "75b84998",
   "metadata": {},
   "outputs": [],
   "source": [
    "sns.catplot(x=\"tahun\", y=\"kepadatan_penduduk\", hue=\"prov\", data=df_merge)"
   ]
  },
  {
   "cell_type": "code",
   "execution_count": null,
   "id": "2d559b61",
   "metadata": {},
   "outputs": [],
   "source": [
    "corr_pearson = df_merge.corr()\n",
    "plt.figure(figsize=(12,8))\n",
    "sns.heatmap(corr_pearson, cmap=\"RdBu_r\",annot=True)\n",
    "plt.title('Correlation between Numeric Variables')\n",
    "plt.show()"
   ]
  },
  {
   "cell_type": "code",
   "execution_count": null,
   "id": "5876adba",
   "metadata": {},
   "outputs": [],
   "source": [
    "from sklearn.model_selection import train_test_split\n",
    "X_train,X_test,Y_train,Y_test=train_test_split(x,y,test_size=0.2, random_state=123)"
   ]
  },
  {
   "cell_type": "code",
   "execution_count": null,
   "id": "75a4a141",
   "metadata": {},
   "outputs": [],
   "source": [
    "from sklearn.ensemble import RandomForestClassifier\n",
    "clf_RF = RandomForestClassifier(n_estimators=200, random_state=123)\n",
    "clf_RF.fit(X_train, Y_train)\n",
    "Y_pred = clf_RF.predict(X_test)\n",
    "acc = accuracy_score(Y_test, Y_pred)\n",
    "print(\"Akurasi {}\".format(acc))\n",
    "print(classification_report(Y_test, Y_pred))"
   ]
  },
  {
   "cell_type": "code",
   "execution_count": null,
   "id": "2911bc49",
   "metadata": {},
   "outputs": [],
   "source": [
    "feature_importances = pd.DataFrame(clf_RF.feature_importances_,index = X_train.columns, columns=['importance']).sort_value\n",
    "print(feature_importances)"
   ]
  },
  {
   "cell_type": "code",
   "execution_count": null,
   "id": "517e82e7",
   "metadata": {},
   "outputs": [],
   "source": []
  }
 ],
 "metadata": {
  "kernelspec": {
   "display_name": "Python 3 (ipykernel)",
   "language": "python",
   "name": "python3"
  },
  "language_info": {
   "codemirror_mode": {
    "name": "ipython",
    "version": 3
   },
   "file_extension": ".py",
   "mimetype": "text/x-python",
   "name": "python",
   "nbconvert_exporter": "python",
   "pygments_lexer": "ipython3",
   "version": "3.9.12"
  }
 },
 "nbformat": 4,
 "nbformat_minor": 5
}
